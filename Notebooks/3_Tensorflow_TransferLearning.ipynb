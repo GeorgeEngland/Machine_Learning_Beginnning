{
 "cells": [
  {
   "cell_type": "code",
   "execution_count": 15,
   "metadata": {},
   "outputs": [],
   "source": [
    "import tensorflow as tf\n",
    "from tensorflow import keras\n",
    "import numpy as np\n",
    "model_A = keras.models.load_model(\"../Models/1_ImageClassify_A/\")\n",
    "\n",
    "fashion_mnist = keras.datasets.fashion_mnist\n",
    "(X_train_full,y_train_full),(X_test,y_test) = fashion_mnist.load_data()\n",
    "X_train_full=X_train_full[...,np.newaxis]\n",
    "X_test=X_test[...,np.newaxis]\n",
    "X_valid,X_train = X_train_full[:5000]/255.0,X_train_full[5000:]/255.0\n",
    "y_valid,y_train = y_train_full[:5000],y_train_full[5000:]\n",
    "X_test = X_test/255.0\n",
    "class_names = [\"T-shirt/Top\",\"Trouser\",\"Pullover\",\"Dress\",\"Coat\",\"Sandal\",\"Shirt\",\"Sneaker\",\"Bag\",\"Ankle Boot\"]\n"
   ]
  },
  {
   "cell_type": "code",
   "execution_count": 16,
   "metadata": {},
   "outputs": [],
   "source": [
    "#model_B_on_A = keras.models.Sequential(model_A.layers[:-1])\n",
    "#model_B_on_A.add(keras.layers.Dense(10,activation=\"softmax\"))\n",
    "model_B_on_A = model_A\n"
   ]
  },
  {
   "cell_type": "code",
   "execution_count": 17,
   "metadata": {},
   "outputs": [],
   "source": [
    "optimizer = keras.optimizers.SGD(learning_rate=0.1,decay=1e-3,nesterov=True)\n",
    "lr_scheduler = keras.callbacks.ReduceLROnPlateau(factor=0.5,patience=2)"
   ]
  },
  {
   "cell_type": "code",
   "execution_count": 20,
   "metadata": {},
   "outputs": [
    {
     "name": "stdout",
     "output_type": "stream",
     "text": [
      "Model: \"sequential_6\"\n",
      "_________________________________________________________________\n",
      "Layer (type)                 Output Shape              Param #   \n",
      "=================================================================\n",
      "flatten_1 (Flatten)          (None, 784)               0         \n",
      "_________________________________________________________________\n",
      "dense_3 (Dense)              (None, 300)               235500    \n",
      "_________________________________________________________________\n",
      "dropout_12 (Dropout)         (None, 300)               0         \n",
      "_________________________________________________________________\n",
      "dense_4 (Dense)              (None, 100)               30100     \n",
      "_________________________________________________________________\n",
      "dropout_13 (Dropout)         (None, 100)               0         \n",
      "_________________________________________________________________\n",
      "dense_5 (Dense)              (None, 10)                1010      \n",
      "=================================================================\n",
      "Total params: 266,610\n",
      "Trainable params: 266,610\n",
      "Non-trainable params: 0\n",
      "_________________________________________________________________\n"
     ]
    }
   ],
   "source": [
    "for layer in model_B_on_A.layers[:-1]:\n",
    "    layer.trainable=True\n",
    "dropout_model = keras.models.Sequential([model_B_on_A.layers[0],\n",
    "                                         model_B_on_A.layers[1],\n",
    "                                        keras.layers.Dropout(rate=.2),\n",
    "                                        model_B_on_A.layers[3],\n",
    "                                        keras.layers.Dropout(rate=.15),\n",
    "                                        model_B_on_A.layers[4]])\n",
    "model_B_on_A.compile(loss = \"sparse_categorical_crossentropy\",\n",
    "                     optimizer = optimizer,metrics=[\"accuracy\"])\n",
    "dropout_model.compile(loss = \"sparse_categorical_crossentropy\",\n",
    "                     optimizer = optimizer,metrics=[\"accuracy\"])\n",
    "#model_B_on_A.summary()\n",
    "dropout_model.summary()"
   ]
  },
  {
   "cell_type": "code",
   "execution_count": null,
   "metadata": {},
   "outputs": [],
   "source": []
  },
  {
   "cell_type": "code",
   "execution_count": null,
   "metadata": {},
   "outputs": [
    {
     "name": "stdout",
     "output_type": "stream",
     "text": [
      "Epoch 1/10\n",
      "1719/1719 [==============================] - 3s 2ms/step - loss: 0.4398 - accuracy: 0.8481 - val_loss: 0.3430 - val_accuracy: 0.8668\n",
      "Epoch 2/10\n",
      "1719/1719 [==============================] - 3s 2ms/step - loss: 0.2966 - accuracy: 0.8910 - val_loss: 0.2950 - val_accuracy: 0.8916\n",
      "Epoch 3/10\n",
      "1719/1719 [==============================] - 3s 2ms/step - loss: 0.2585 - accuracy: 0.9063 - val_loss: 0.2898 - val_accuracy: 0.8956\n",
      "Epoch 4/10\n",
      "1719/1719 [==============================] - 3s 2ms/step - loss: 0.2389 - accuracy: 0.9115 - val_loss: 0.2840 - val_accuracy: 0.9004\n",
      "Epoch 5/10\n",
      "1719/1719 [==============================] - 3s 2ms/step - loss: 0.2282 - accuracy: 0.9146 - val_loss: 0.2784 - val_accuracy: 0.9000\n",
      "Epoch 6/10\n",
      "1719/1719 [==============================] - 3s 2ms/step - loss: 0.2182 - accuracy: 0.9196 - val_loss: 0.2911 - val_accuracy: 0.8954\n",
      "Epoch 7/10\n",
      "1719/1719 [==============================] - 3s 2ms/step - loss: 0.2093 - accuracy: 0.9221 - val_loss: 0.2829 - val_accuracy: 0.9002\n",
      "Epoch 8/10\n",
      "1719/1719 [==============================] - 3s 2ms/step - loss: 0.2012 - accuracy: 0.9258 - val_loss: 0.2805 - val_accuracy: 0.8994\n",
      "Epoch 9/10\n",
      "1095/1719 [==================>...........] - ETA: 1s - loss: 0.1962 - accuracy: 0.9264"
     ]
    }
   ],
   "source": [
    "model_B_on_A.compile(loss=\"sparse_categorical_crossentropy\",optimizer=\"sgd\",metrics=\"accuracy\")\n",
    "history = dropout_model.fit(X_train,y_train,epochs=10,validation_data=(X_valid,y_valid),callbacks=lr_scheduler)\n"
   ]
  },
  {
   "cell_type": "code",
   "execution_count": 14,
   "metadata": {},
   "outputs": [
    {
     "data": {
      "image/png": "[encoded data removed]",
      "text/plain": [
       "<Figure size 576x360 with 1 Axes>"
      ]
     },
     "metadata": {
      "needs_background": "light"
     },
     "output_type": "display_data"
    },
    {
     "name": "stdout",
     "output_type": "stream",
     "text": [
      "1719/1719 [==============================] - 2s 1ms/step - loss: 0.1233 - accuracy: 0.9580\n"
     ]
    },
    {
     "data": {
      "text/plain": [
       "[0.12328997999429703, 0.9580181837081909]"
      ]
     },
     "execution_count": 14,
     "metadata": {},
     "output_type": "execute_result"
    }
   ],
   "source": [
    "import pandas as pd\n",
    "import matplotlib.pyplot as plt\n",
    "import numpy as np\n",
    "pd.DataFrame(history.history).plot(figsize=(8,5))\n",
    "plt.grid(True)\n",
    "plt.gca().set_ylim(0,1)\n",
    "plt.show()\n",
    "#model_B_on_A.save(\"../Models/1_ImageClassify_A\")\n",
    "#dropout_model.save(\"../Models/1_ImageClassify_A\")\n",
    "dropout_model.evaluate(X_train,y_train)"
   ]
  },
  {
   "cell_type": "code",
   "execution_count": null,
   "metadata": {},
   "outputs": [],
   "source": []
  },
  {
   "cell_type": "code",
   "execution_count": null,
   "metadata": {},
   "outputs": [],
   "source": []
  }
 ],
 "metadata": {
  "kernelspec": {
   "display_name": "Python 3",
   "language": "python",
   "name": "python3"
  },
  "language_info": {
   "codemirror_mode": {
    "name": "ipython",
    "version": 3
   },
   "file_extension": ".py",
   "mimetype": "text/x-python",
   "name": "python",
   "nbconvert_exporter": "python",
   "pygments_lexer": "ipython3",
   "version": "3.6.9"
  }
 },
 "nbformat": 4,
 "nbformat_minor": 4
}
