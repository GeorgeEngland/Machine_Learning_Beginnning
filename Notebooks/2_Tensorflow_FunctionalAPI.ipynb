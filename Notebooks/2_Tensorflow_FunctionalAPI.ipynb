{
 "cells": [
  {
   "cell_type": "code",
   "execution_count": 9,
   "metadata": {},
   "outputs": [],
   "source": [
    "from sklearn.datasets import fetch_california_housing\n",
    "from sklearn.model_selection import train_test_split\n",
    "from sklearn.preprocessing import StandardScaler\n",
    "import tensorflow as tf\n",
    "from tensorflow import keras\n",
    "\n",
    "housing = fetch_california_housing()\n",
    "X_train_full, X_test, y_train_full, y_test = train_test_split(housing.data,housing.target)\n",
    "X_train,X_valid,y_train,y_valid = train_test_split(X_train_full,y_train_full)\n",
    "scaler = StandardScaler()\n",
    "X_train = scaler.fit_transform(X_train)\n",
    "X_train_A,X_train_B = X_train[:,:5],X_train[:,2:]\n",
    "X_valid_A,X_valid_B = X_valid[:,:5],X_valid[:,2:]\n",
    "X_test_A,X_test_B = X_test[:,:5],X_test[:,2:]\n",
    "X_new_A,X_new_B = X_test_A[:3],X_test_B[:3]\n",
    "X_valid = scaler.fit_transform(X_valid)\n",
    "X_test = scaler.fit_transform(X_test)"
   ]
  },
  {
   "cell_type": "code",
   "execution_count": 10,
   "metadata": {},
   "outputs": [],
   "source": [
    "input_ = keras.layers.Input(shape = X_train.shape[1:])\n",
    "hidden1 = keras.layers.Dense(30,activation=\"relu\")(input_)\n",
    "hidden2 = keras.layers.Dense(30,activation=\"relu\")(hidden1)\n",
    "concat = keras.layers.Concatenate()([input_,hidden2])\n",
    "output = keras.layers.Dense(1)(concat)\n",
    "model = keras.Model(inputs = [input_],outputs = [output])\n"
   ]
  },
  {
   "cell_type": "code",
   "execution_count": 13,
   "metadata": {},
   "outputs": [],
   "source": [
    "class WideAndDeepModel(keras.Model):\n",
    "    def __init__(self,units=30,activation=\"relu\",**kwargs):\n",
    "        super().__init__(**kwargs)\n",
    "        self.hidden1 = keras.layers.Dense(units,activation=activation)\n",
    "        self.hidden2 = keras.layers.Dense(units,activation=activation)\n",
    "        self.main_output = keras.layers.Dense(1)\n",
    "        self.aux_output = keras.layers.Dense(1)\n",
    "    def call(self,inputs):\n",
    "        input_A,input_B = inputs\n",
    "        hidden1 = self.hidden1(input_B)\n",
    "        hidden2 = self.hidden2(hidden1)\n",
    "        concat = keras.layers.concatenate([input_A,hidden2])\n",
    "        main_output = self.main_output(concat)\n",
    "        aux_output = self.aux_output(hidden2)\n",
    "        return main_output,aux_output\n",
    "model = WideAndDeepModel()"
   ]
  },
  {
   "cell_type": "code",
   "execution_count": 15,
   "metadata": {},
   "outputs": [
    {
     "name": "stdout",
     "output_type": "stream",
     "text": [
      "Epoch 1/20\n",
      "363/363 [==============================] - 1s 2ms/step - loss: 0.3497 - output_1_loss: 0.3368 - output_2_loss: 0.4665 - val_loss: 7383.0093 - val_output_1_loss: 5166.5811 - val_output_2_loss: 27330.8477\n",
      "Epoch 2/20\n",
      "363/363 [==============================] - 0s 1ms/step - loss: 0.3476 - output_1_loss: 0.3349 - output_2_loss: 0.4619 - val_loss: 9088.8691 - val_output_1_loss: 7126.6987 - val_output_2_loss: 26748.4102\n",
      "Epoch 3/20\n",
      "363/363 [==============================] - 0s 1ms/step - loss: 0.3520 - output_1_loss: 0.3394 - output_2_loss: 0.4651 - val_loss: 4323.2500 - val_output_1_loss: 2400.5261 - val_output_2_loss: 21627.7598\n",
      "Epoch 4/20\n",
      "363/363 [==============================] - 0s 1ms/step - loss: 0.3485 - output_1_loss: 0.3368 - output_2_loss: 0.4541 - val_loss: 4828.9595 - val_output_1_loss: 3321.9370 - val_output_2_loss: 18392.1680\n",
      "Epoch 5/20\n",
      "363/363 [==============================] - 0s 1ms/step - loss: 0.3444 - output_1_loss: 0.3325 - output_2_loss: 0.4508 - val_loss: 5888.2812 - val_output_1_loss: 4332.8398 - val_output_2_loss: 19887.2617\n",
      "Epoch 6/20\n",
      "363/363 [==============================] - 0s 1ms/step - loss: 0.3441 - output_1_loss: 0.3328 - output_2_loss: 0.4460 - val_loss: 5255.9263 - val_output_1_loss: 4017.9597 - val_output_2_loss: 16397.6172\n",
      "Epoch 7/20\n",
      "363/363 [==============================] - 0s 1ms/step - loss: 0.3456 - output_1_loss: 0.3346 - output_2_loss: 0.4447 - val_loss: 5424.0151 - val_output_1_loss: 4241.4092 - val_output_2_loss: 16067.4873\n",
      "Epoch 8/20\n",
      "363/363 [==============================] - 0s 1ms/step - loss: 0.3401 - output_1_loss: 0.3289 - output_2_loss: 0.4407 - val_loss: 9257.8330 - val_output_1_loss: 7985.4526 - val_output_2_loss: 20709.2676\n",
      "Epoch 9/20\n",
      "363/363 [==============================] - 0s 1ms/step - loss: 0.3375 - output_1_loss: 0.3264 - output_2_loss: 0.4373 - val_loss: 11497.0850 - val_output_1_loss: 10260.0752 - val_output_2_loss: 22630.1426\n",
      "Epoch 10/20\n",
      "363/363 [==============================] - 0s 1ms/step - loss: 0.3367 - output_1_loss: 0.3258 - output_2_loss: 0.4343 - val_loss: 5792.2681 - val_output_1_loss: 4893.5601 - val_output_2_loss: 13880.6348\n",
      "Epoch 11/20\n",
      "363/363 [==============================] - 0s 1ms/step - loss: 0.3359 - output_1_loss: 0.3250 - output_2_loss: 0.4342 - val_loss: 7780.5625 - val_output_1_loss: 6717.7065 - val_output_2_loss: 17346.2422\n",
      "Epoch 12/20\n",
      "363/363 [==============================] - 0s 1ms/step - loss: 0.3353 - output_1_loss: 0.3247 - output_2_loss: 0.4303 - val_loss: 7219.1260 - val_output_1_loss: 6411.0366 - val_output_2_loss: 14491.9180\n",
      "Epoch 13/20\n",
      "363/363 [==============================] - 0s 1ms/step - loss: 0.3346 - output_1_loss: 0.3242 - output_2_loss: 0.4280 - val_loss: 8133.4580 - val_output_1_loss: 7186.6841 - val_output_2_loss: 16654.4199\n",
      "Epoch 14/20\n",
      "363/363 [==============================] - 0s 1ms/step - loss: 0.3331 - output_1_loss: 0.3228 - output_2_loss: 0.4256 - val_loss: 16191.9111 - val_output_1_loss: 15605.3926 - val_output_2_loss: 21470.5762\n",
      "Epoch 15/20\n",
      "363/363 [==============================] - 0s 1ms/step - loss: 0.3300 - output_1_loss: 0.3198 - output_2_loss: 0.4219 - val_loss: 4667.3989 - val_output_1_loss: 3999.0249 - val_output_2_loss: 10682.7607\n",
      "Epoch 16/20\n",
      "363/363 [==============================] - 0s 1ms/step - loss: 0.3299 - output_1_loss: 0.3197 - output_2_loss: 0.4215 - val_loss: 9268.6348 - val_output_1_loss: 8612.1904 - val_output_2_loss: 15176.6436\n",
      "Epoch 17/20\n",
      "363/363 [==============================] - 0s 1ms/step - loss: 0.3300 - output_1_loss: 0.3201 - output_2_loss: 0.4195 - val_loss: 27111.8711 - val_output_1_loss: 27462.2324 - val_output_2_loss: 23958.5625\n",
      "Epoch 18/20\n",
      "363/363 [==============================] - 0s 1ms/step - loss: 0.3312 - output_1_loss: 0.3216 - output_2_loss: 0.4177 - val_loss: 21536.6562 - val_output_1_loss: 21622.1738 - val_output_2_loss: 20766.9453\n",
      "Epoch 19/20\n",
      "363/363 [==============================] - 0s 1ms/step - loss: 0.3297 - output_1_loss: 0.3201 - output_2_loss: 0.4161 - val_loss: 18288.2188 - val_output_1_loss: 17948.7949 - val_output_2_loss: 21342.9961\n",
      "Epoch 20/20\n",
      "363/363 [==============================] - 0s 1ms/step - loss: 0.3259 - output_1_loss: 0.3161 - output_2_loss: 0.4135 - val_loss: 10779.6406 - val_output_1_loss: 9858.3145 - val_output_2_loss: 19071.5801\n",
      "[[91.56737]\n",
      " [70.61726]\n",
      " [80.38134]]\n"
     ]
    }
   ],
   "source": [
    "model.compile(loss=[\"mse\",\"mse\"],loss_weights=[0.9,.1],optimizer=\"sgd\")\n",
    "history = model.fit([X_train_A,X_train_B],[y_train,y_train],epochs = 20,validation_data=([X_valid_A,X_valid_B],[y_valid,y_valid]))\n",
    "y_pred_main,y_pred_aux = model.predict([X_new_A,X_new_B])\n",
    "print(y_pred_main)"
   ]
  },
  {
   "cell_type": "code",
   "execution_count": 25,
   "metadata": {},
   "outputs": [
    {
     "name": "stdout",
     "output_type": "stream",
     "text": [
      "162/162 [==============================] - 0s 809us/step - loss: 10803.2773 - output_1_loss: 9838.3867 - output_2_loss: 19487.3184\n"
     ]
    }
   ],
   "source": [
    "total_loss,main_loss,aux_loss=model.evaluate([X_test_A,X_test_B],[y_test,y_test])"
   ]
  },
  {
   "cell_type": "code",
   "execution_count": null,
   "metadata": {},
   "outputs": [],
   "source": []
  },
  {
   "cell_type": "code",
   "execution_count": null,
   "metadata": {},
   "outputs": [],
   "source": []
  }
 ],
 "metadata": {
  "kernelspec": {
   "display_name": "Python 3",
   "language": "python",
   "name": "python3"
  },
  "language_info": {
   "codemirror_mode": {
    "name": "ipython",
    "version": 3
   },
   "file_extension": ".py",
   "mimetype": "text/x-python",
   "name": "python",
   "nbconvert_exporter": "python",
   "pygments_lexer": "ipython3",
   "version": "3.6.9"
  }
 },
 "nbformat": 4,
 "nbformat_minor": 4
}
