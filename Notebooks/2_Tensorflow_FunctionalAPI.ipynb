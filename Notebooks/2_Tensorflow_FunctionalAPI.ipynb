{
 "cells": [
  {
   "cell_type": "code",
   "execution_count": 9,
   "metadata": {},
   "outputs": [],
   "source": [
    "from sklearn.datasets import fetch_california_housing\n",
    "from sklearn.model_selection import train_test_split\n",
    "from sklearn.preprocessing import StandardScaler\n",
    "import tensorflow as tf\n",
    "from tensorflow import keras\n",
    "\n",
    "housing = fetch_california_housing()\n",
    "X_train_full, X_test, y_train_full, y_test = train_test_split(housing.data,housing.target)\n",
    "X_train,X_valid,y_train,y_valid = train_test_split(X_train_full,y_train_full)\n",
    "scaler = StandardScaler()\n",
    "X_train = scaler.fit_transform(X_train)\n",
    "X_train_A,X_train_B = X_train[:,:5],X_train[:,2:]\n",
    "X_valid_A,X_valid_B = X_valid[:,:5],X_valid[:,2:]\n",
    "X_test_A,X_test_B = X_test[:,:5],X_test[:,2:]\n",
    "X_new_A,X_new_B = X_test_A[:3],X_test_B[:3]\n",
    "X_valid = scaler.fit_transform(X_valid)\n",
    "X_test = scaler.fit_transform(X_test)"
   ]
  },
  {
   "cell_type": "code",
   "execution_count": 10,
   "metadata": {},
   "outputs": [],
   "source": [
    "input_ = keras.layers.Input(shape = X_train.shape[1:])\n",
    "hidden1 = keras.layers.Dense(30,activation=\"relu\")(input_)\n",
    "hidden2 = keras.layers.Dense(30,activation=\"relu\")(hidden1)\n",
    "concat = keras.layers.Concatenate()([input_,hidden2])\n",
    "output = keras.layers.Dense(1)(concat)\n",
    "model = keras.Model(inputs = [input_],outputs = [output])\n"
   ]
  },
  {
   "cell_type": "code",
   "execution_count": 13,
   "metadata": {},
   "outputs": [],
   "source": [
    "class WideAndDeepModel(keras.Model):\n",
    "    def __init__(self,units=30,activation=\"relu\",**kwargs):\n",
    "        super().__init__(**kwargs)\n",
    "        self.hidden1 = keras.layers.Dense(units,activation=activation)\n",
    "        self.hidden2 = keras.layers.Dense(units,activation=activation)\n",
    "        self.main_output = keras.layers.Dense(1)\n",
    "        self.aux_output = keras.layers.Dense(1)\n",
    "    def call(self,inputs):\n",
    "        input_A,input_B = inputs\n",
    "        hidden1 = self.hidden1(input_B)\n",
    "        hidden2 = self.hidden2(hidden1)\n",
    "        concat = keras.layers.concatenate([input_A,hidden2])\n",
    "        main_output = self.main_output(concat)\n",
    "        aux_output = self.aux_output(hidden2)\n",
    "        return main_output,aux_output\n",
    "model = WideAndDeepModel()"
   ]
  },
  {
   "cell_type": "code",
   "execution_count": 31,
   "metadata": {},
   "outputs": [],
   "source": [
    "early_stopping_cb = keras.callbacks.EarlyStopping(patience = 10,restore_best_weights=True)\n",
    "checkpoint_cb = keras.callbacks.ModelCheckpoint(\"../Models/2_TF_functional_SubclassedCalif\")"
   ]
  },
  {
   "cell_type": "code",
   "execution_count": 32,
   "metadata": {
    "scrolled": true
   },
   "outputs": [
    {
     "name": "stdout",
     "output_type": "stream",
     "text": [
      "Epoch 1/40\n",
      "363/363 [==============================] - 0s 1ms/step - loss: 0.3206 - output_1_loss: 0.3124 - output_2_loss: 0.3939 - val_loss: 52971.7656 - val_output_1_loss: 53581.4609 - val_output_2_loss: 47484.4727\n",
      "Epoch 2/40\n",
      "363/363 [==============================] - 0s 1ms/step - loss: 0.3213 - output_1_loss: 0.3133 - output_2_loss: 0.3938 - val_loss: 9880.0156 - val_output_1_loss: 9045.5205 - val_output_2_loss: 17390.5078\n",
      "Epoch 3/40\n",
      "363/363 [==============================] - 0s 1ms/step - loss: 0.3218 - output_1_loss: 0.3139 - output_2_loss: 0.3931 - val_loss: 15773.5342 - val_output_1_loss: 15303.6973 - val_output_2_loss: 20002.0781\n",
      "Epoch 4/40\n",
      "363/363 [==============================] - 0s 1ms/step - loss: 0.3195 - output_1_loss: 0.3116 - output_2_loss: 0.3913 - val_loss: 9887.8516 - val_output_1_loss: 9002.4648 - val_output_2_loss: 17856.2969\n",
      "Epoch 5/40\n",
      "363/363 [==============================] - 0s 1ms/step - loss: 0.3188 - output_1_loss: 0.3110 - output_2_loss: 0.3886 - val_loss: 13308.5791 - val_output_1_loss: 12980.0332 - val_output_2_loss: 16265.4893\n",
      "Epoch 6/40\n",
      "363/363 [==============================] - 0s 1ms/step - loss: 0.3177 - output_1_loss: 0.3098 - output_2_loss: 0.3889 - val_loss: 20042.3438 - val_output_1_loss: 19962.1602 - val_output_2_loss: 20764.0078\n",
      "Epoch 7/40\n",
      "363/363 [==============================] - 0s 1ms/step - loss: 0.3163 - output_1_loss: 0.3085 - output_2_loss: 0.3863 - val_loss: 19635.6543 - val_output_1_loss: 19266.7168 - val_output_2_loss: 22956.0957\n",
      "Epoch 8/40\n",
      "363/363 [==============================] - 0s 1ms/step - loss: 0.3149 - output_1_loss: 0.3072 - output_2_loss: 0.3840 - val_loss: 15024.0840 - val_output_1_loss: 14604.2070 - val_output_2_loss: 18802.9961\n",
      "Epoch 9/40\n",
      "363/363 [==============================] - 0s 1ms/step - loss: 0.3162 - output_1_loss: 0.3086 - output_2_loss: 0.3845 - val_loss: 18329.7793 - val_output_1_loss: 18328.6523 - val_output_2_loss: 18339.9180\n",
      "Epoch 10/40\n",
      "363/363 [==============================] - 0s 1ms/step - loss: 0.3152 - output_1_loss: 0.3076 - output_2_loss: 0.3836 - val_loss: 17668.1387 - val_output_1_loss: 17091.0059 - val_output_2_loss: 22862.3691\n",
      "Epoch 11/40\n",
      "363/363 [==============================] - 0s 1ms/step - loss: 0.3140 - output_1_loss: 0.3065 - output_2_loss: 0.3812 - val_loss: 8719.0293 - val_output_1_loss: 8179.2915 - val_output_2_loss: 13576.6504\n",
      "Epoch 12/40\n",
      "363/363 [==============================] - 0s 1ms/step - loss: 0.3147 - output_1_loss: 0.3073 - output_2_loss: 0.3810 - val_loss: 16182.7900 - val_output_1_loss: 16248.8252 - val_output_2_loss: 15588.4824\n",
      "Epoch 13/40\n",
      "363/363 [==============================] - 0s 1ms/step - loss: 0.3141 - output_1_loss: 0.3067 - output_2_loss: 0.3810 - val_loss: 30312.8945 - val_output_1_loss: 30198.6523 - val_output_2_loss: 31341.1133\n",
      "Epoch 14/40\n",
      "363/363 [==============================] - 0s 1ms/step - loss: 0.3139 - output_1_loss: 0.3066 - output_2_loss: 0.3793 - val_loss: 29569.7695 - val_output_1_loss: 29702.7598 - val_output_2_loss: 28372.8379\n",
      "Epoch 15/40\n",
      "363/363 [==============================] - 0s 1ms/step - loss: 0.3122 - output_1_loss: 0.3047 - output_2_loss: 0.3792 - val_loss: 16007.4229 - val_output_1_loss: 15579.5850 - val_output_2_loss: 19858.0039\n",
      "Epoch 16/40\n",
      "363/363 [==============================] - 0s 1ms/step - loss: 0.3126 - output_1_loss: 0.3053 - output_2_loss: 0.3784 - val_loss: 10995.8242 - val_output_1_loss: 10484.0742 - val_output_2_loss: 15601.5674\n",
      "Epoch 17/40\n",
      "363/363 [==============================] - 0s 1ms/step - loss: 0.3111 - output_1_loss: 0.3038 - output_2_loss: 0.3768 - val_loss: 15209.5068 - val_output_1_loss: 14936.0254 - val_output_2_loss: 17670.8516\n",
      "Epoch 18/40\n",
      "363/363 [==============================] - 0s 1ms/step - loss: 0.3135 - output_1_loss: 0.3065 - output_2_loss: 0.3772 - val_loss: 19955.3750 - val_output_1_loss: 19131.0859 - val_output_2_loss: 27373.9688\n",
      "Epoch 19/40\n",
      "363/363 [==============================] - 0s 1ms/step - loss: 0.3110 - output_1_loss: 0.3040 - output_2_loss: 0.3748 - val_loss: 38098.8906 - val_output_1_loss: 37964.9492 - val_output_2_loss: 39304.4805\n",
      "Epoch 20/40\n",
      "363/363 [==============================] - 0s 1ms/step - loss: 0.3103 - output_1_loss: 0.3031 - output_2_loss: 0.3744 - val_loss: 21666.3457 - val_output_1_loss: 20975.1797 - val_output_2_loss: 27886.8164\n",
      "Epoch 21/40\n",
      "363/363 [==============================] - 0s 1ms/step - loss: 0.3125 - output_1_loss: 0.3056 - output_2_loss: 0.3750 - val_loss: 28094.0547 - val_output_1_loss: 27751.8457 - val_output_2_loss: 31173.9258\n",
      "[[99.03599]\n",
      " [54.6603 ]\n",
      " [72.07002]]\n"
     ]
    }
   ],
   "source": [
    "model.compile(loss=[\"mse\",\"mse\"],loss_weights=[0.9,.1],optimizer=\"sgd\")\n",
    "history = model.fit([X_train_A,X_train_B],[y_train,y_train],\n",
    "                    epochs = 40,\n",
    "                    validation_data=([X_valid_A,X_valid_B],[y_valid,y_valid]),\n",
    "                    callbacks=[checkpoint_cb,early_stopping_cb])\n",
    "y_pred_main,y_pred_aux = model.predict([X_new_A,X_new_B])\n",
    "print(y_pred_main)"
   ]
  },
  {
   "cell_type": "code",
   "execution_count": 30,
   "metadata": {},
   "outputs": [
    {
     "name": "stdout",
     "output_type": "stream",
     "text": [
      "162/162 [==============================] - 0s 740us/step - loss: 7351.3682 - output_1_loss: 6678.3564 - output_2_loss: 13408.4775\n",
      "INFO:tensorflow:Assets written to: ../Models/2_TF_functional_SubclassedCalif/assets\n"
     ]
    }
   ],
   "source": [
    "total_loss,main_loss,aux_loss=model.evaluate([X_test_A,X_test_B],[y_test,y_test])\n",
    "model.save(\"../Models/2_TF_functional_SubclassedCalif\")\n"
   ]
  },
  {
   "cell_type": "code",
   "execution_count": 27,
   "metadata": {},
   "outputs": [],
   "source": [
    "model = keras.models.load_model(\"../Models/2_TF_functional_SubclassedCalif\")"
   ]
  },
  {
   "cell_type": "code",
   "execution_count": null,
   "metadata": {},
   "outputs": [],
   "source": []
  },
  {
   "cell_type": "code",
   "execution_count": null,
   "metadata": {},
   "outputs": [],
   "source": []
  }
 ],
 "metadata": {
  "kernelspec": {
   "display_name": "Python 3",
   "language": "python",
   "name": "python3"
  },
  "language_info": {
   "codemirror_mode": {
    "name": "ipython",
    "version": 3
   },
   "file_extension": ".py",
   "mimetype": "text/x-python",
   "name": "python",
   "nbconvert_exporter": "python",
   "pygments_lexer": "ipython3",
   "version": "3.6.9"
  }
 },
 "nbformat": 4,
 "nbformat_minor": 4
}
