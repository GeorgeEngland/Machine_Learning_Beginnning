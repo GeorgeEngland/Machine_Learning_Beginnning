{
 "cells": [
  {
   "cell_type": "code",
   "execution_count": 8,
   "metadata": {},
   "outputs": [],
   "source": [
    "import tensorflow as tf\n",
    "from tensorflow import keras\n",
    "import numpy as np\n",
    "model_A = keras.models.load_model(\"../Models/1_ImageClassify_A/\")\n",
    "\n",
    "fashion_mnist = keras.datasets.fashion_mnist\n",
    "(X_train_full,y_train_full),(X_test,y_test) = fashion_mnist.load_data()\n",
    "X_train_full=X_train_full[...,np.newaxis]\n",
    "X_test=X_test[...,np.newaxis]\n",
    "X_valid,X_train = X_train_full[:5000]/255.0,X_train_full[5000:]/255.0\n",
    "y_valid,y_train = y_train_full[:5000],y_train_full[5000:]\n",
    "X_test = X_test/255.0\n",
    "class_names = [\"T-shirt/Top\",\"Trouser\",\"Pullover\",\"Dress\",\"Coat\",\"Sandal\",\"Shirt\",\"Sneaker\",\"Bag\",\"Ankle Boot\"]\n"
   ]
  },
  {
   "cell_type": "code",
   "execution_count": 9,
   "metadata": {},
   "outputs": [],
   "source": [
    "#model_B_on_A = keras.models.Sequential(model_A.layers[:-1])\n",
    "#model_B_on_A.add(keras.layers.Dense(10,activation=\"softmax\"))\n",
    "model_B_on_A = model_A\n"
   ]
  },
  {
   "cell_type": "code",
   "execution_count": 10,
   "metadata": {},
   "outputs": [],
   "source": [
    "optimizer = keras.optimizers.SGD(learning_rate=0.01,decay=1e-4,nesterov=True)\n",
    "lr_scheduler = keras.callbacks.ReduceLROnPlateau(factor=0.5,patience=5)"
   ]
  },
  {
   "cell_type": "code",
   "execution_count": 18,
   "metadata": {},
   "outputs": [
    {
     "name": "stdout",
     "output_type": "stream",
     "text": [
      "Model: \"sequential_1\"\n",
      "_________________________________________________________________\n",
      "Layer (type)                 Output Shape              Param #   \n",
      "=================================================================\n",
      "flatten_1 (Flatten)          (None, 784)               0         \n",
      "_________________________________________________________________\n",
      "dense_3 (Dense)              (None, 300)               235500    \n",
      "_________________________________________________________________\n",
      "dense_4 (Dense)              (None, 100)               30100     \n",
      "_________________________________________________________________\n",
      "dense_5 (Dense)              (None, 10)                1010      \n",
      "=================================================================\n",
      "Total params: 266,610\n",
      "Trainable params: 266,610\n",
      "Non-trainable params: 0\n",
      "_________________________________________________________________\n",
      "Model: \"sequential_3\"\n",
      "_________________________________________________________________\n",
      "Layer (type)                 Output Shape              Param #   \n",
      "=================================================================\n",
      "flatten_1 (Flatten)          (None, 784)               0         \n",
      "_________________________________________________________________\n",
      "dense_3 (Dense)              (None, 300)               235500    \n",
      "_________________________________________________________________\n",
      "dropout_3 (Dropout)          (None, 300)               0         \n",
      "_________________________________________________________________\n",
      "dense_4 (Dense)              (None, 100)               30100     \n",
      "_________________________________________________________________\n",
      "dense_5 (Dense)              (None, 10)                1010      \n",
      "=================================================================\n",
      "Total params: 266,610\n",
      "Trainable params: 266,610\n",
      "Non-trainable params: 0\n",
      "_________________________________________________________________\n"
     ]
    }
   ],
   "source": [
    "for layer in model_B_on_A.layers[:-1]:\n",
    "    layer.trainable=True\n",
    "dropout_model = keras.models.Sequential([model_B_on_A.layers[0],\n",
    "                                         model_B_on_A.layers[1],\n",
    "                                        keras.layers.Dropout(rate=.2),\n",
    "                                        model_B_on_A.layers[2],\n",
    "                                        model_B_on_A.layers[3]])\n",
    "model_B_on_A.compile(loss = \"sparse_categorical_crossentropy\",\n",
    "                     optimizer = optimizer,metrics=[\"accuracy\"])\n",
    "dropout_model.compile(loss = \"sparse_categorical_crossentropy\",\n",
    "                     optimizer = optimizer,metrics=[\"accuracy\"])\n",
    "model_B_on_A.summary()\n",
    "dropout_model.summary()"
   ]
  },
  {
   "cell_type": "code",
   "execution_count": null,
   "metadata": {},
   "outputs": [],
   "source": []
  },
  {
   "cell_type": "code",
   "execution_count": 19,
   "metadata": {},
   "outputs": [
    {
     "name": "stdout",
     "output_type": "stream",
     "text": [
      "Epoch 1/30\n",
      "1719/1719 [==============================] - 3s 2ms/step - loss: 0.2450 - accuracy: 0.9091 - val_loss: 0.3027 - val_accuracy: 0.8940\n",
      "Epoch 2/30\n",
      "1719/1719 [==============================] - 3s 2ms/step - loss: 0.2134 - accuracy: 0.9207 - val_loss: 0.2878 - val_accuracy: 0.8994\n",
      "Epoch 3/30\n",
      "1719/1719 [==============================] - 3s 2ms/step - loss: 0.1996 - accuracy: 0.9254 - val_loss: 0.2960 - val_accuracy: 0.8966\n",
      "Epoch 4/30\n",
      "1719/1719 [==============================] - 3s 2ms/step - loss: 0.1913 - accuracy: 0.9290 - val_loss: 0.2957 - val_accuracy: 0.8986\n",
      "Epoch 5/30\n",
      "1719/1719 [==============================] - 3s 2ms/step - loss: 0.1838 - accuracy: 0.9310 - val_loss: 0.2902 - val_accuracy: 0.9002\n",
      "Epoch 6/30\n",
      "1719/1719 [==============================] - 3s 2ms/step - loss: 0.1791 - accuracy: 0.9332 - val_loss: 0.2846 - val_accuracy: 0.8998\n",
      "Epoch 7/30\n",
      "1719/1719 [==============================] - 3s 2ms/step - loss: 0.1756 - accuracy: 0.9354 - val_loss: 0.2862 - val_accuracy: 0.9038\n",
      "Epoch 8/30\n",
      "1719/1719 [==============================] - 3s 2ms/step - loss: 0.1706 - accuracy: 0.9368 - val_loss: 0.2864 - val_accuracy: 0.9014\n",
      "Epoch 9/30\n",
      "1719/1719 [==============================] - 3s 2ms/step - loss: 0.1679 - accuracy: 0.9378 - val_loss: 0.2820 - val_accuracy: 0.9038\n",
      "Epoch 10/30\n",
      "1719/1719 [==============================] - 3s 2ms/step - loss: 0.1641 - accuracy: 0.9398 - val_loss: 0.2933 - val_accuracy: 0.9054\n",
      "Epoch 11/30\n",
      "1719/1719 [==============================] - 3s 2ms/step - loss: 0.1649 - accuracy: 0.9389 - val_loss: 0.2855 - val_accuracy: 0.9028\n",
      "Epoch 12/30\n",
      "1719/1719 [==============================] - 3s 2ms/step - loss: 0.1615 - accuracy: 0.9400 - val_loss: 0.2867 - val_accuracy: 0.9006\n",
      "Epoch 13/30\n",
      "1719/1719 [==============================] - 3s 2ms/step - loss: 0.1579 - accuracy: 0.9422 - val_loss: 0.2794 - val_accuracy: 0.9044\n",
      "Epoch 14/30\n",
      "1719/1719 [==============================] - 3s 2ms/step - loss: 0.1560 - accuracy: 0.9426 - val_loss: 0.2848 - val_accuracy: 0.9010\n",
      "Epoch 15/30\n",
      "1719/1719 [==============================] - 3s 2ms/step - loss: 0.1547 - accuracy: 0.9430 - val_loss: 0.2844 - val_accuracy: 0.9036\n",
      "Epoch 16/30\n",
      "1719/1719 [==============================] - 3s 2ms/step - loss: 0.1553 - accuracy: 0.9424 - val_loss: 0.2854 - val_accuracy: 0.9032\n",
      "Epoch 17/30\n",
      "1719/1719 [==============================] - 3s 2ms/step - loss: 0.1529 - accuracy: 0.9443 - val_loss: 0.2888 - val_accuracy: 0.9026\n",
      "Epoch 18/30\n",
      "1719/1719 [==============================] - 3s 2ms/step - loss: 0.1534 - accuracy: 0.9433 - val_loss: 0.2849 - val_accuracy: 0.9038\n",
      "Epoch 19/30\n",
      "1719/1719 [==============================] - 3s 2ms/step - loss: 0.1483 - accuracy: 0.9462 - val_loss: 0.2799 - val_accuracy: 0.9048\n",
      "Epoch 20/30\n",
      "1719/1719 [==============================] - 3s 2ms/step - loss: 0.1446 - accuracy: 0.9471 - val_loss: 0.2839 - val_accuracy: 0.9036\n",
      "Epoch 21/30\n",
      "1719/1719 [==============================] - 3s 2ms/step - loss: 0.1453 - accuracy: 0.9476 - val_loss: 0.2819 - val_accuracy: 0.9044\n",
      "Epoch 22/30\n",
      "1719/1719 [==============================] - 3s 2ms/step - loss: 0.1432 - accuracy: 0.9472 - val_loss: 0.2851 - val_accuracy: 0.9036\n",
      "Epoch 23/30\n",
      "1719/1719 [==============================] - 3s 2ms/step - loss: 0.1433 - accuracy: 0.9485 - val_loss: 0.2819 - val_accuracy: 0.9058\n",
      "Epoch 24/30\n",
      "1719/1719 [==============================] - 3s 2ms/step - loss: 0.1444 - accuracy: 0.9481 - val_loss: 0.2810 - val_accuracy: 0.9052\n",
      "Epoch 25/30\n",
      "1719/1719 [==============================] - 3s 2ms/step - loss: 0.1406 - accuracy: 0.9489 - val_loss: 0.2803 - val_accuracy: 0.9054\n",
      "Epoch 26/30\n",
      "1719/1719 [==============================] - 3s 2ms/step - loss: 0.1391 - accuracy: 0.9497 - val_loss: 0.2814 - val_accuracy: 0.9056\n",
      "Epoch 27/30\n",
      "1719/1719 [==============================] - 3s 2ms/step - loss: 0.1409 - accuracy: 0.9490 - val_loss: 0.2827 - val_accuracy: 0.9048\n",
      "Epoch 28/30\n",
      "1719/1719 [==============================] - 3s 2ms/step - loss: 0.1424 - accuracy: 0.9487 - val_loss: 0.2825 - val_accuracy: 0.9054\n",
      "Epoch 29/30\n",
      "1719/1719 [==============================] - 3s 2ms/step - loss: 0.1392 - accuracy: 0.9490 - val_loss: 0.2818 - val_accuracy: 0.9052\n",
      "Epoch 30/30\n",
      "1719/1719 [==============================] - 3s 2ms/step - loss: 0.1388 - accuracy: 0.9490 - val_loss: 0.2809 - val_accuracy: 0.9052\n"
     ]
    }
   ],
   "source": [
    "model_B_on_A.compile(loss=\"sparse_categorical_crossentropy\",optimizer=\"sgd\",metrics=\"accuracy\")\n",
    "history = dropout_model.fit(X_train,y_train,epochs=30,validation_data=(X_valid,y_valid),callbacks=lr_scheduler)\n"
   ]
  },
  {
   "cell_type": "code",
   "execution_count": 24,
   "metadata": {},
   "outputs": [
    {
     "data": {
      "image/png": "[encoded data removed]",
      "text/plain": [
       "<Figure size 576x360 with 1 Axes>"
      ]
     },
     "metadata": {
      "needs_background": "light"
     },
     "output_type": "display_data"
    },
    {
     "name": "stdout",
     "output_type": "stream",
     "text": [
      "INFO:tensorflow:Assets written to: ../Models/1_ImageClassify_A/assets\n",
      "1719/1719 [==============================] - 2s 1ms/step - loss: 0.0964 - accuracy: 0.9704\n"
     ]
    },
    {
     "data": {
      "text/plain": [
       "[0.0963638499379158, 0.9703999757766724]"
      ]
     },
     "execution_count": 24,
     "metadata": {},
     "output_type": "execute_result"
    }
   ],
   "source": [
    "import pandas as pd\n",
    "import matplotlib.pyplot as plt\n",
    "import numpy as np\n",
    "pd.DataFrame(history.history).plot(figsize=(8,5))\n",
    "plt.grid(True)\n",
    "plt.gca().set_ylim(0,1)\n",
    "plt.show()\n",
    "model_B_on_A.save(\"../Models/1_ImageClassify_A\")\n",
    "model_B_on_A.evaluate(X_train,y_train)"
   ]
  },
  {
   "cell_type": "code",
   "execution_count": 23,
   "metadata": {},
   "outputs": [
    {
     "name": "stdout",
     "output_type": "stream",
     "text": [
      "(55000, 28, 28, 1, 1)\n"
     ]
    }
   ],
   "source": [
    "print(X_train[...,np.newaxis].shape)"
   ]
  },
  {
   "cell_type": "code",
   "execution_count": null,
   "metadata": {},
   "outputs": [],
   "source": []
  }
 ],
 "metadata": {
  "kernelspec": {
   "display_name": "Python 3",
   "language": "python",
   "name": "python3"
  },
  "language_info": {
   "codemirror_mode": {
    "name": "ipython",
    "version": 3
   },
   "file_extension": ".py",
   "mimetype": "text/x-python",
   "name": "python",
   "nbconvert_exporter": "python",
   "pygments_lexer": "ipython3",
   "version": "3.6.9"
  }
 },
 "nbformat": 4,
 "nbformat_minor": 4
}
